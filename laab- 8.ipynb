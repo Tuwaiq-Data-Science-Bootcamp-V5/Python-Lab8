{
 "cells": [
  {
   "cell_type": "code",
   "execution_count": 1,
   "id": "e95f79a3",
   "metadata": {},
   "outputs": [
    {
     "name": "stdout",
     "output_type": "stream",
     "text": [
      "25\n"
     ]
    }
   ],
   "source": [
    "class Product:\n",
    "    def __init__(self, name, price, quantity):\n",
    "        self.name = name\n",
    "        self.price = price\n",
    "        self.quantity = quantity\n",
    "\n",
    "    def update_quantity(self, new_quantity):\n",
    "        if new_quantity < 0:\n",
    "            raise ValueError(\"Quantity cannot be negative\")\n",
    "        self.quantity = new_quantity\n",
    "\n",
    "    def calculate_total_price(self):\n",
    "        return self.price * self.quantity\n",
    "\n",
    "class Inventory:\n",
    "    def __init__(self):\n",
    "        self.products = {}\n",
    "\n",
    "    def add_product(self, product):\n",
    "        if product.name in self.products:\n",
    "            raise ValueError(\"Product already exists in inventory\")\n",
    "        self.products[product.name] = product\n",
    "\n",
    "    def update_product(self, product_name, new_quantity):\n",
    "        if product_name not in self.products:\n",
    "            raise ValueError(\"Product not found in inventory\")\n",
    "        product = self.products[product_name]\n",
    "        product.update_quantity(new_quantity)\n",
    "\n",
    "    def remove_product(self, product_name):\n",
    "        if product_name not in self.products:\n",
    "            raise ValueError(\"Product not found in inventory\")\n",
    "        del self.products[product_name]\n",
    "\n",
    "    def calculate_total_price(self):\n",
    "        total_price = 0\n",
    "        for product in self.products.values():\n",
    "            total_price += product.calculate_total_price()\n",
    "        return total_price\n",
    "\n",
    "product1 = Product(\"Apple\", 1, 10)\n",
    "product2 = Product(\"Banana\", 2, 5)\n",
    "product3 = Product(\"Orange\", 3, 20)\n",
    "\n",
    "inventory = Inventory()\n",
    "\n",
    "inventory.add_product(product1)\n",
    "inventory.add_product(product2)\n",
    "inventory.add_product(product3)\n",
    "\n",
    "inventory.update_product(\"Apple\", 15)\n",
    "\n",
    "inventory.remove_product(\"Orange\")\n",
    "\n",
    "total_price = inventory.calculate_total_price()\n",
    "\n",
    "print(total_price)\n",
    "\n"
   ]
  },
  {
   "cell_type": "code",
   "execution_count": null,
   "id": "df9f5998",
   "metadata": {},
   "outputs": [],
   "source": []
  }
 ],
 "metadata": {
  "kernelspec": {
   "display_name": "Python 3 (ipykernel)",
   "language": "python",
   "name": "python3"
  },
  "language_info": {
   "codemirror_mode": {
    "name": "ipython",
    "version": 3
   },
   "file_extension": ".py",
   "mimetype": "text/x-python",
   "name": "python",
   "nbconvert_exporter": "python",
   "pygments_lexer": "ipython3",
   "version": "3.11.5"
  }
 },
 "nbformat": 4,
 "nbformat_minor": 5
}
