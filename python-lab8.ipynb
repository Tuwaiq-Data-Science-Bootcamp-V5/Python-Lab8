{
 "cells": [
  {
   "cell_type": "code",
   "execution_count": 1,
   "id": "c08683c6",
   "metadata": {},
   "outputs": [],
   "source": [
    "class product:\n",
    "    def __init__(self, name, price, quantity):\n",
    "        self.name = name\n",
    "        self.price = price\n",
    "        self.quantity = quantity\n",
    "        \n",
    "    def update_quantity(self,new_quantity):\n",
    "        self.quantity = new_quantity\n",
    "        \n",
    "    def total(self):\n",
    "        return self.quantity * self.price"
   ]
  },
  {
   "cell_type": "code",
   "execution_count": 2,
   "id": "befd3da5",
   "metadata": {},
   "outputs": [],
   "source": [
    "class inventory:\n",
    "    def __init__(self):\n",
    "        self.products = {}\n",
    "    \n",
    "    def add_product(self,product):\n",
    "        self.products[product.name] = product\n",
    "        \n",
    "    def update_product(self,name,new_product):\n",
    "        if name in self.products:\n",
    "            self.products[name] = new_product\n",
    "        else:\n",
    "            print(f\"Product '{name}' does not exist in the inventory.\")\n",
    "    \n",
    "    def remove_product(self,name):\n",
    "        \n",
    "        if name in self.products:\n",
    "            del self.products[name]\n",
    "        else:\n",
    "            print(f\"Product '{name}' does not exist in the inventory.\")\n",
    "    def total_price(self):\n",
    "        x = 0\n",
    "        for product in self.products.values():\n",
    "            x = x + product.total()\n",
    "        return x\n",
    "    \n",
    "inventory = inventory()"
   ]
  },
  {
   "cell_type": "code",
   "execution_count": 3,
   "id": "d0bb8006",
   "metadata": {},
   "outputs": [],
   "source": [
    "iphone = product(\"iphone\",1000,5)\n",
    "laptop = product(\"laptop\",3500,2)\n",
    "pc = product(\"pc\",5000,2)"
   ]
  },
  {
   "cell_type": "code",
   "execution_count": 4,
   "id": "f9b4700c",
   "metadata": {},
   "outputs": [
    {
     "name": "stdout",
     "output_type": "stream",
     "text": [
      "7000\n",
      "10000\n",
      "1000\n"
     ]
    }
   ],
   "source": [
    "iphone.update_quantity(1)\n",
    "\n",
    "print(laptop.total())\n",
    "print(pc.total())\n",
    "print(iphone.total())"
   ]
  },
  {
   "cell_type": "code",
   "execution_count": 5,
   "id": "dd26ccf8",
   "metadata": {},
   "outputs": [],
   "source": [
    "inventory.add_product(laptop)\n",
    "inventory.add_product(pc)\n",
    "inventory.add_product(iphone)"
   ]
  },
  {
   "cell_type": "code",
   "execution_count": 6,
   "id": "4ed5d1a0",
   "metadata": {},
   "outputs": [],
   "source": [
    "inventory.update_product('laptop',pc)"
   ]
  },
  {
   "cell_type": "code",
   "execution_count": 7,
   "id": "479f55ce",
   "metadata": {},
   "outputs": [],
   "source": [
    "inventory.remove_product(\"pc\")"
   ]
  },
  {
   "cell_type": "code",
   "execution_count": 8,
   "id": "a03e1a33",
   "metadata": {},
   "outputs": [
    {
     "data": {
      "text/plain": [
       "11000"
      ]
     },
     "execution_count": 8,
     "metadata": {},
     "output_type": "execute_result"
    }
   ],
   "source": [
    "inventory.total_price()"
   ]
  }
 ],
 "metadata": {
  "kernelspec": {
   "display_name": "Python 3 (ipykernel)",
   "language": "python",
   "name": "python3"
  },
  "language_info": {
   "codemirror_mode": {
    "name": "ipython",
    "version": 3
   },
   "file_extension": ".py",
   "mimetype": "text/x-python",
   "name": "python",
   "nbconvert_exporter": "python",
   "pygments_lexer": "ipython3",
   "version": "3.9.12"
  }
 },
 "nbformat": 4,
 "nbformat_minor": 5
}
