{
 "cells": [
  {
   "cell_type": "code",
   "execution_count": 7,
   "id": "ff95ed79-93c3-4026-ae8d-f6f1ea8604ae",
   "metadata": {},
   "outputs": [
    {
     "name": "stdout",
     "output_type": "stream",
     "text": [
      "1000\n"
     ]
    }
   ],
   "source": [
    "class Product:\n",
    "    def __init__(self, name, price ,quantity):\n",
    "        self.name = name\n",
    "        self.price = price\n",
    "        self.quantity = quantity\n",
    "        \n",
    "    def update_quantity(self, quantity2):\n",
    "        self.quantity = quantity2\n",
    "\n",
    "    def total(self):\n",
    "        print(self.quantity*self.price)\n",
    "\n",
    "Product = Product(\"x\" , 1000 , 5)\n",
    "\n",
    "Product.update_quantity(1)\n",
    "Product.total()"
   ]
  },
  {
   "cell_type": "code",
   "execution_count": null,
   "id": "a426e7c7-4bb1-49b7-875a-ae69e717758d",
   "metadata": {},
   "outputs": [],
   "source": []
  }
 ],
 "metadata": {
  "kernelspec": {
   "display_name": "Python 3 (ipykernel)",
   "language": "python",
   "name": "python3"
  },
  "language_info": {
   "codemirror_mode": {
    "name": "ipython",
    "version": 3
   },
   "file_extension": ".py",
   "mimetype": "text/x-python",
   "name": "python",
   "nbconvert_exporter": "python",
   "pygments_lexer": "ipython3",
   "version": "3.9.13"
  }
 },
 "nbformat": 4,
 "nbformat_minor": 5
}
