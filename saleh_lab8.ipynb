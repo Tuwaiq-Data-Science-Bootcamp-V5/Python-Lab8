{
 "cells": [
  {
   "cell_type": "code",
   "execution_count": 1,
   "id": "eedf772f-cbbd-4a57-8636-a4ce1b209132",
   "metadata": {},
   "outputs": [],
   "source": [
    "class Product():\n",
    "    def __init__(self,name,price,quantity):\n",
    "        self.name = name\n",
    "        self.price = price\n",
    "        self.quantity = quantity\n",
    "    def update_quantity(self, quantity):\n",
    "        self.quantity = quantity\n",
    "    def total(self):\n",
    "        return self.price*self.quantity\n"
   ]
  },
  {
   "cell_type": "code",
   "execution_count": 2,
   "id": "bf78d947-3894-45ce-983a-90578bdb7ac7",
   "metadata": {},
   "outputs": [],
   "source": [
    "class Inventory():\n",
    "    def __init__(self):\n",
    "        self.inventory = {}\n",
    "    \n",
    "    def add_new_product(self,product):\n",
    "        self.inventory[product.name] = product\n",
    "    \n",
    "    \n",
    "    \n",
    "    def update_product(self,product,quantity):\n",
    "        if product in self.inventory:\n",
    "            self.inventory[product].update_quantity(quantity)\n",
    "            print(f'{product} Updated to {quantity} successfully')\n",
    "        else:\n",
    "            print(f'The product {product} not Found')\n",
    "    \n",
    "\n",
    "    \n",
    "    def remove_product(self,product):\n",
    "        x=product\n",
    "        if product in self.inventory:\n",
    "            del self.inventory[product]\n",
    "            print(f'{x} Removed from inventory successfully')\n",
    "        else:\n",
    "            print(f\"product {product} not found to delete\")\n",
    "\n",
    "    def what_in_inventory(self):\n",
    "        for i in self.inventory:\n",
    "            print(i,end=\" \")\n",
    "        print()\n",
    "\n",
    "    def calculate_total(self):\n",
    "        x=0\n",
    "        for i in self.inventory.values():\n",
    "            x+=i.total()\n",
    "        return f'The total is: {x}'"
   ]
  },
  {
   "cell_type": "code",
   "execution_count": 3,
   "id": "3f1ffa4c-a1bc-43ed-aefb-190ba303ac8e",
   "metadata": {},
   "outputs": [
    {
     "name": "stdout",
     "output_type": "stream",
     "text": [
      "20\n",
      "water Updated to 5 successfully\n",
      "Cola water oreo \n",
      "The total is: 27\n",
      "oreo Removed from inventory successfully\n",
      "********************\n",
      "Cola water \n",
      "The total is: 25\n"
     ]
    }
   ],
   "source": [
    "c=Product(\"Cola\",2,5)\n",
    "w=Product(\"water\",1,4)\n",
    "b=Product(\"oreo\",1,2)\n",
    "c.update_quantity(10)\n",
    "print(c.total())\n",
    "bag=Inventory()\n",
    "bag.add_new_product(c)\n",
    "bag.add_new_product(w)\n",
    "bag.add_new_product(b)\n",
    "bag.update_product(w.name,5)\n",
    "bag.what_in_inventory()\n",
    "print(bag.calculate_total())\n",
    "bag.remove_product(b.name)\n",
    "print(\"*\"*20)\n",
    "bag.what_in_inventory()\n",
    "print(bag.calculate_total())"
   ]
  }
 ],
 "metadata": {
  "kernelspec": {
   "display_name": "Python 3 (ipykernel)",
   "language": "python",
   "name": "python3"
  },
  "language_info": {
   "codemirror_mode": {
    "name": "ipython",
    "version": 3
   },
   "file_extension": ".py",
   "mimetype": "text/x-python",
   "name": "python",
   "nbconvert_exporter": "python",
   "pygments_lexer": "ipython3",
   "version": "3.10.11"
  }
 },
 "nbformat": 4,
 "nbformat_minor": 5
}
